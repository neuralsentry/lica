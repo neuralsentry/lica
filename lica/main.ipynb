{
 "cells": [
  {
   "cell_type": "code",
   "execution_count": 28,
   "metadata": {},
   "outputs": [],
   "source": [
    "import pandas as pd\n",
    "from sklearn.model_selection import train_test_split\n",
    "\n",
    "from config import *\n",
    "from helpers import *"
   ]
  },
  {
   "cell_type": "markdown",
   "metadata": {},
   "source": [
    "### Filter function for vulnerability commits"
   ]
  },
  {
   "cell_type": "code",
   "execution_count": 29,
   "metadata": {},
   "outputs": [],
   "source": [
    "def filter_commits(commits):\n",
    "    \"\"\" wip \"\"\"\n",
    "    label= []\n",
    "    global STATS\n",
    "\n",
    "    for index, commit in commits.iterrows():\n",
    "        STATS[\"commits\"] += 1\n",
    "\n",
    "        if not filter_title(CONFIG, get_commit_title(commit)):\n",
    "            label.append(0)\n",
    "            continue\n",
    "        if any(hit in get_commit_title(commit) for hit in [\"Merge\", \"Revert\"]):\n",
    "            label.append(0)\n",
    "            continue\n",
    "        STATS[\"fixes\"] += 1\n",
    "\n",
    "        hits = filter_commit(CONFIG, commit)\n",
    "        if not hits:\n",
    "            label.append(0)\n",
    "            continue\n",
    "        STATS[\"filtered\"] += 1\n",
    "\n",
    "        reporter = get_commit_reporter(commit['commit_msg'])\n",
    "        CVEs = get_commit_cves(commit['commit_msg']) # enough to not check title?\n",
    "\n",
    "        if not filter_reporter(CONFIG, reporter):\n",
    "            label.append(0)\n",
    "            continue\n",
    "        else:\n",
    "            label.append(1)\n",
    "\n",
    "    return label"
   ]
  },
  {
   "cell_type": "markdown",
   "metadata": {},
   "source": [
    "### Load and Process dataset"
   ]
  },
  {
   "cell_type": "code",
   "execution_count": 30,
   "metadata": {},
   "outputs": [],
   "source": [
    "df = pd.read_csv('data/bigvul_devign_cvefixes_neuralsentry_commits.csv')\n",
    "df = df.drop_duplicates(subset=['commit_hash'],keep='first')\n",
    "df = df.dropna(subset=['commit_msg', 'commit_hash'])\n",
    "train_df, df = train_test_split(df, test_size=0.2, random_state=420)\n",
    "    \n",
    "linux_test_df = pd.read_csv('data/linux_test.csv')\n",
    "vulnfix = linux_test_df[linux_test_df['labels'] == 1]\n",
    "non_vulnfix = linux_test_df[linux_test_df['labels'] == 0]\n",
    "linux_test_df = pd.concat([non_vulnfix, vulnfix])"
   ]
  },
  {
   "cell_type": "markdown",
   "metadata": {},
   "source": [
    "### Prediction on BigVul, Devign, CVEfixes and NeuralSentry Dataset"
   ]
  },
  {
   "cell_type": "code",
   "execution_count": 31,
   "metadata": {},
   "outputs": [
    {
     "name": "stdout",
     "output_type": "stream",
     "text": [
      "\n",
      ">>> Confusion Matrix: \n",
      "TP: 62, FP: 1 \n",
      "FN: 3493, TN: 3442 \n",
      "\n",
      ">>> Accuracy:  0.500714489854244 \n",
      "\n",
      ">>>: Classification Report:\n",
      "               precision    recall  f1-score   support\n",
      "\n",
      "  non-bugfix       0.50      1.00      0.66      3443\n",
      "      bugfix       0.98      0.02      0.03      3555\n",
      "\n",
      "    accuracy                           0.50      6998\n",
      "   macro avg       0.74      0.51      0.35      6998\n",
      "weighted avg       0.74      0.50      0.34      6998\n",
      "\n"
     ]
    }
   ],
   "source": [
    "predictions = filter_commits(df)\n",
    "labels = df['labels'].tolist()\n",
    "generate_metrics(labels, predictions)"
   ]
  },
  {
   "cell_type": "markdown",
   "metadata": {},
   "source": [
    "### Prediction on Linux Kernel CVEs Dataset"
   ]
  },
  {
   "cell_type": "code",
   "execution_count": 32,
   "metadata": {},
   "outputs": [
    {
     "name": "stdout",
     "output_type": "stream",
     "text": [
      "\n",
      ">>> Confusion Matrix: \n",
      "TP: 136, FP: 1 \n",
      "FN: 1691, TN: 502 \n",
      "\n",
      ">>> Accuracy:  0.2738197424892704 \n",
      "\n",
      ">>>: Classification Report:\n",
      "               precision    recall  f1-score   support\n",
      "\n",
      "  non-bugfix       0.23      1.00      0.37       503\n",
      "      bugfix       0.99      0.07      0.14      1827\n",
      "\n",
      "    accuracy                           0.27      2330\n",
      "   macro avg       0.61      0.54      0.26      2330\n",
      "weighted avg       0.83      0.27      0.19      2330\n",
      "\n"
     ]
    }
   ],
   "source": [
    "predictions = filter_commits(linux_test_df)\n",
    "labels = linux_test_df['labels'].tolist()\n",
    "generate_metrics(labels, predictions)"
   ]
  }
 ],
 "metadata": {
  "kernelspec": {
   "display_name": "Python 3",
   "language": "python",
   "name": "python3"
  },
  "language_info": {
   "codemirror_mode": {
    "name": "ipython",
    "version": 3
   },
   "file_extension": ".py",
   "mimetype": "text/x-python",
   "name": "python",
   "nbconvert_exporter": "python",
   "pygments_lexer": "ipython3",
   "version": "3.10.0"
  },
  "orig_nbformat": 4
 },
 "nbformat": 4,
 "nbformat_minor": 2
}
